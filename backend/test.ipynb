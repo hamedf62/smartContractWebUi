{
 "cells": [
  {
   "cell_type": "code",
   "execution_count": 1,
   "metadata": {},
   "outputs": [
    {
     "name": "stdout",
     "output_type": "stream",
     "text": [
      "default account balance: 0x93dfBbF293297F30E68FD287b3fB3E21a2450887 999998343143903076444\n"
     ]
    }
   ],
   "source": [
    "from ape import Contract, chain, networks,accounts,project,convert,api\n",
    "from web3 import Web3, AsyncWeb3\n",
    "import json\n",
    "\n",
    "\n",
    "w3 = Web3(Web3.HTTPProvider('http://127.0.0.1:8545'))\n",
    "w3.is_connected()\n",
    "\n",
    "w3.eth.default_account = w3.eth.accounts[0]\n",
    "print(\"default account balance:\",w3.eth.default_account, w3.eth.get_balance(w3.eth.default_account))"
   ]
  },
  {
   "cell_type": "code",
   "execution_count": 2,
   "metadata": {},
   "outputs": [
    {
     "name": "stdout",
     "output_type": "stream",
     "text": [
      "INFO: Connecting to existing 'Ganache' process.\n"
     ]
    },
    {
     "data": {
      "text/plain": [
       "'0x93dfBbF293297F30E68FD287b3fB3E21a2450887'"
      ]
     },
     "execution_count": 2,
     "metadata": {},
     "output_type": "execute_result"
    }
   ],
   "source": [
    "with networks.parse_network_choice(\"ethereum:local:ganache\") as provider:\n",
    "    js = project.CF.contract_type.dict()\n",
    "    # # [\"abi\"]\n",
    "    # print(js)\n",
    "    # print(list(js.keys()))\n",
    "\n",
    "\n",
    "ExampleContract = w3.eth.contract(abi=js[\"abi\"], bytecode=js[\"deploymentBytecode\"][\"bytecode\"])\n",
    "tx_hash = ExampleContract.constructor(w3.to_wei(3,\"ether\")).transact()\n",
    "tx_receipt = w3.eth.wait_for_transaction_receipt(tx_hash)\n",
    "\n",
    "\n",
    "contract = w3.eth.contract(address=tx_receipt.contractAddress, abi=js[\"abi\"])\n",
    "\n",
    "contract.functions.isOwner().call()"
   ]
  },
  {
   "cell_type": "code",
   "execution_count": 3,
   "metadata": {},
   "outputs": [
    {
     "data": {
      "text/plain": [
       "775737"
      ]
     },
     "execution_count": 3,
     "metadata": {},
     "output_type": "execute_result"
    }
   ],
   "source": [
    "# Get deployment bytecode\n",
    "# deploy_bytecode = w3.eth.contract(abi=[]).constructor().buildTransaction({'data': contract_bytecode})['data']\n",
    "\n",
    "# Estimate gas \n",
    "# gas_estimate = w3.eth.estimate_gas({\n",
    "#   'from': w3.eth.accounts[0], \n",
    "#   'data': js[\"deploymentBytecode\"][\"bytecode\"]\n",
    "# })\n",
    "# w3.eth.estimate_gas(tx_receipt)\n",
    "ExampleContract.constructor(1).estimate_gas()"
   ]
  },
  {
   "cell_type": "code",
   "execution_count": 4,
   "metadata": {},
   "outputs": [
    {
     "name": "stdout",
     "output_type": "stream",
     "text": [
      "{'blockHash': HexBytes('0x4375f993929ce0077c5ef5d899bf9db90435bd1e7ef80aa63c38bf7ebb41c38c'),\n",
      " 'blockNumber': 7,\n",
      " 'contractAddress': None,\n",
      " 'cumulativeGasUsed': 137790,\n",
      " 'effectiveGasPrice': 20000000000,\n",
      " 'from': '0xC62460B42C3502bd7CBd98644ABCcB4e0F968E23',\n",
      " 'gasUsed': 137790,\n",
      " 'logs': [AttributeDict({'address': '0xED2e531EC706b0E914daDB7CC99a5F5449493c00', 'blockHash': HexBytes('0x4375f993929ce0077c5ef5d899bf9db90435bd1e7ef80aa63c38bf7ebb41c38c'), 'blockNumber': 7, 'data': HexBytes('0x000000000000000000000000c62460b42c3502bd7cbd98644abccb4e0f968e230000000000000000000000000000000000000000000000000de0b6b3a7640000'), 'logIndex': 0, 'removed': False, 'topics': [HexBytes('0x23bac35767dec08bf219a302474bbc6687dfaaf3776a62d45bb7811de040e26d')], 'transactionHash': HexBytes('0x393d98a2858014b6e8ac558fccc855b993f3e5be861434101ecc388933bc0abb'), 'transactionIndex': 0})],\n",
      " 'logsBloom': HexBytes('0x00000000000000000000000000000000080000000000000000000000000000000000000000000000000000000000000000000000200000000000000000000000000000000000000000000000000000000000000040000000000000000000000000000000000000000000000000000000000000000000000000000000000000000000000000000000000000000000000000000400000000000000000000000000000000000000000000000000000000000000000000000000000000000000001000000000000000000000000000000000000000000000000000000000000000000000000000000000000000000000000000000000000000000000000800000000'),\n",
      " 'status': 1,\n",
      " 'to': '0xED2e531EC706b0E914daDB7CC99a5F5449493c00',\n",
      " 'transactionHash': HexBytes('0x393d98a2858014b6e8ac558fccc855b993f3e5be861434101ecc388933bc0abb'),\n",
      " 'transactionIndex': 0,\n",
      " 'type': 0}\n",
      "{'blockHash': HexBytes('0xcbdae39b625a10725f174f3f509f5facbf7889855d839f74358391762242d33c'),\n",
      " 'blockNumber': 8,\n",
      " 'contractAddress': None,\n",
      " 'cumulativeGasUsed': 103590,\n",
      " 'effectiveGasPrice': 20000000000,\n",
      " 'from': '0xdc33a23979C235Fbb028006ED11659fC98444262',\n",
      " 'gasUsed': 103590,\n",
      " 'logs': [AttributeDict({'address': '0xED2e531EC706b0E914daDB7CC99a5F5449493c00', 'blockHash': HexBytes('0xcbdae39b625a10725f174f3f509f5facbf7889855d839f74358391762242d33c'), 'blockNumber': 8, 'data': HexBytes('0x000000000000000000000000dc33a23979c235fbb028006ed11659fc984442620000000000000000000000000000000000000000000000000de0b6b3a7640000'), 'logIndex': 0, 'removed': False, 'topics': [HexBytes('0x23bac35767dec08bf219a302474bbc6687dfaaf3776a62d45bb7811de040e26d')], 'transactionHash': HexBytes('0x40956ac55528fddb6a644436ae415c9fd6356d4ce4e9c59106ce9c3fa17ace8b'), 'transactionIndex': 0})],\n",
      " 'logsBloom': HexBytes('0x00000000000000000000000000000000080000000000000000000000000000000000000000000000000000000000000000000000200000000000000000000000000000000000000000000000000000000000000040000000000000000000000000000000000000000000000000000000000000000000000000000000000000000000000000000000000000000000000000000400000000000000000000000000000000000000000000000000000000000000000000000000000000000000001000000000000000000000000000000000000000000000000000000000000000000000000000000000000000000000000000000000000000000000000800000000'),\n",
      " 'status': 1,\n",
      " 'to': '0xED2e531EC706b0E914daDB7CC99a5F5449493c00',\n",
      " 'transactionHash': HexBytes('0x40956ac55528fddb6a644436ae415c9fd6356d4ce4e9c59106ce9c3fa17ace8b'),\n",
      " 'transactionIndex': 0,\n",
      " 'type': 0}\n"
     ]
    }
   ],
   "source": [
    "import pprint\n",
    "\n",
    "amount = 1\n",
    "# account = \"0xDc541B8b0e326bdf734744f497713A7cb2255b0F\"\n",
    "# private_key = \"0x0aa622a36df1c7db6007e8d03f7b42fe1d7224cfc1cd1fc6cf7351003c70a668\"\n",
    "# w3.eth.default_account = account\n",
    "\n",
    "# nonce = w3.eth.get_transaction_count(w3.eth.accounts[1])\n",
    "\n",
    "contributors = [w3.eth.accounts[1],w3.eth.accounts[2]]\n",
    "\n",
    "for contributor in contributors:\n",
    "\n",
    "    tx = {\n",
    "            \"chainId\": w3.eth.chain_id,  # Replace with the chain ID of your network\n",
    "            \"from\": contributor,\n",
    "            # \"to\": tx_receipt.contractAddress,\n",
    "            \"value\": w3.to_wei(amount, \"ether\"),\n",
    "            # \"gas\": gas,\n",
    "            # \"gasPrice\": gasPrice,\n",
    "            \"gas\": 200000,  # Specify the gas limit\n",
    "            \"gasPrice\": w3.to_wei(\"20\", \"gwei\"),  # Specify the gas price\n",
    "            # \"nonce\": nonce,\n",
    "        }\n",
    "\n",
    "    tx_hash = contract.functions.contribute().transact(tx)\n",
    "    tx_receipt = w3.eth.wait_for_transaction_receipt(tx_hash)\n",
    "    pprint.pprint(dict(tx_receipt))\n",
    "\n",
    "# transaction = contract.functions.contribute().build_transaction(tx)\n",
    "\n",
    "# signed_transaction = w3.eth.account.sign_transaction(transaction, private_key)\n",
    "# transaction_hash = w3.eth.send_raw_transaction(signed_transaction.rawTransaction)\n",
    "\n",
    "# # Render the result template with the transaction hash\n",
    "# transaction_hash=transaction_hash.hex()\n",
    "# transaction_hash"
   ]
  },
  {
   "cell_type": "code",
   "execution_count": 5,
   "metadata": {},
   "outputs": [
    {
     "name": "stdout",
     "output_type": "stream",
     "text": [
      "execution reverted: VM Exception while processing transaction: revert Funding goal has not been reached.\n"
     ]
    }
   ],
   "source": [
    "try:\n",
    "    tx_hash=contract.functions.completeProject().transact()\n",
    "    tx_receipt = w3.eth.wait_for_transaction_receipt(tx_hash)\n",
    "    print(tx_receipt)\n",
    "except Exception as e:\n",
    "    print(e)"
   ]
  },
  {
   "cell_type": "code",
   "execution_count": 6,
   "metadata": {},
   "outputs": [
    {
     "name": "stdout",
     "output_type": "stream",
     "text": [
      "contractAddress: 0xED2e531EC706b0E914daDB7CC99a5F5449493c00\n",
      "Project Owner: 0x93dfBbF293297F30E68FD287b3fB3E21a2450887\n",
      "Default Account: 0x93dfBbF293297F30E68FD287b3fB3E21a2450887\n",
      "Goal Amount: 3000000000000000000 Wei\n",
      "Goal Amount: 3 Ether\n",
      "Total Funding: 2000000000000000000 Wei\n",
      "Total Funding: 2 Ether\n",
      "Funding Goal Reached: False\n",
      "Project Completed: False\n",
      "getContributorCount:  2\n",
      "contributors:::::\n",
      "0xC62460B42C3502bd7CBd98644ABCcB4e0F968E23 1000000000000000000 1699894585\n",
      "0xdc33a23979C235Fbb028006ED11659fC98444262 1000000000000000000 1699894585\n"
     ]
    }
   ],
   "source": [
    "# Example: Check crowdfunding status\n",
    "def check_crowdfunding_status():\n",
    "    project_owner = contract.functions.projectOwner().call()\n",
    "    goal_amount = contract.functions.goalAmount().call()\n",
    "    total_funding = contract.functions.totalFunding().call()\n",
    "    funding_goal_reached = contract.functions.fundingGoalReached().call()\n",
    "    project_completed = contract.functions.projectCompleted().call()\n",
    "\n",
    "    print(\"contractAddress:\", contract.address)\n",
    "    print(f\"Project Owner: {project_owner}\")\n",
    "    print(f\"Default Account: {w3.eth.default_account}\")\n",
    "    print(f\"Goal Amount: {goal_amount} Wei\")\n",
    "    print(f\"Goal Amount: {w3.from_wei(goal_amount,'ether')} Ether\")\n",
    "    print(f\"Total Funding: {total_funding} Wei\")\n",
    "    print(f\"Total Funding: {w3.from_wei(total_funding,'ether')} Ether\")\n",
    "\n",
    "    print(f\"Funding Goal Reached: {funding_goal_reached}\")\n",
    "    print(f\"Project Completed: {project_completed}\")\n",
    "    print(\"getContributorCount: \", contract.functions.getContributorCount().call())\n",
    "    # print(\"getContributorAtIndex:\",contract.functions.getContributors().call())\n",
    "    (\n",
    "        contributor_addresses,\n",
    "        contribution_amounts,\n",
    "        contribution_datetime,\n",
    "    ) = contract.functions.getContributors().call()\n",
    "    print(\"contributors:::::\")\n",
    "    for i in range(len(contributor_addresses)):\n",
    "        # contributors_dict[contributor_addresses[i].hex()] = contribution_amounts[i]\n",
    "        print(\n",
    "            contributor_addresses[i], contribution_amounts[i], contribution_datetime[i]\n",
    "        )\n",
    "\n",
    "\n",
    "check_crowdfunding_status()"
   ]
  },
  {
   "cell_type": "code",
   "execution_count": 7,
   "metadata": {},
   "outputs": [
    {
     "name": "stdout",
     "output_type": "stream",
     "text": [
      "{'blockHash': HexBytes('0x1ebdbf67064e341d8187754f64f90a7b3693d8279aa0f94a490ba9c278cb4d5b'),\n",
      " 'blockNumber': 9,\n",
      " 'contractAddress': None,\n",
      " 'cumulativeGasUsed': 61222,\n",
      " 'effectiveGasPrice': 391036493,\n",
      " 'from': '0x93dfBbF293297F30E68FD287b3fB3E21a2450887',\n",
      " 'gasUsed': 61222,\n",
      " 'logs': [AttributeDict({'address': '0xED2e531EC706b0E914daDB7CC99a5F5449493c00', 'blockHash': HexBytes('0x1ebdbf67064e341d8187754f64f90a7b3693d8279aa0f94a490ba9c278cb4d5b'), 'blockNumber': 9, 'data': HexBytes('0x000000000000000000000000c62460b42c3502bd7cbd98644abccb4e0f968e230000000000000000000000000000000000000000000000000de0b6b3a76400000000000000000000000000000000000000000000000000000000000065525539'), 'logIndex': 0, 'removed': False, 'topics': [HexBytes('0x0754663d79ddf47e96611d36d595a38ce0918960aa5965913d75c482d0477ed6')], 'transactionHash': HexBytes('0xb2a16c7856c0d2aad098019eb306bdfe4765728e21a9ce6062749ef1c06c3ccb'), 'transactionIndex': 0}),\n",
      "          AttributeDict({'address': '0xED2e531EC706b0E914daDB7CC99a5F5449493c00', 'blockHash': HexBytes('0x1ebdbf67064e341d8187754f64f90a7b3693d8279aa0f94a490ba9c278cb4d5b'), 'blockNumber': 9, 'data': HexBytes('0x000000000000000000000000dc33a23979c235fbb028006ed11659fc984442620000000000000000000000000000000000000000000000000de0b6b3a76400000000000000000000000000000000000000000000000000000000000065525539'), 'logIndex': 1, 'removed': False, 'topics': [HexBytes('0x0754663d79ddf47e96611d36d595a38ce0918960aa5965913d75c482d0477ed6')], 'transactionHash': HexBytes('0xb2a16c7856c0d2aad098019eb306bdfe4765728e21a9ce6062749ef1c06c3ccb'), 'transactionIndex': 0})],\n",
      " 'logsBloom': HexBytes('0x00000000010000000000000000000000000000000000000000000000000000000000000000000000000000000000000000000000200400000000000000000001000000000000000000000000000000000000000000000000000000000000000000000000000000000000000000000000000000000000000000000000000000000000000000000000000000000000000000000400000000000000000000000000000000000000000000000000000000000000000000000000000000000000000000000000000000000000000000000000000000000000000000000000000000000000000000000000000000000000000000000000000000000000000800000000'),\n",
      " 'status': 1,\n",
      " 'to': '0xED2e531EC706b0E914daDB7CC99a5F5449493c00',\n",
      " 'transactionHash': HexBytes('0xb2a16c7856c0d2aad098019eb306bdfe4765728e21a9ce6062749ef1c06c3ccb'),\n",
      " 'transactionIndex': 0,\n",
      " 'type': 2}\n"
     ]
    }
   ],
   "source": [
    "try:\n",
    "    tx_hash=contract.functions.refundContributors().transact()\n",
    "    tx_receipt = w3.eth.wait_for_transaction_receipt(tx_hash)\n",
    "    pprint.pprint(dict(tx_receipt))\n",
    "except Exception as e:\n",
    "    print(e)"
   ]
  },
  {
   "cell_type": "code",
   "execution_count": 8,
   "metadata": {},
   "outputs": [],
   "source": [
    "# tx_hash=contract.functions.withdrawFunds().transact()\n",
    "# tx_receipt = w3.eth.wait_for_transaction_receipt(tx_hash)\n",
    "# tx_receipt"
   ]
  },
  {
   "cell_type": "code",
   "execution_count": 9,
   "metadata": {},
   "outputs": [],
   "source": [
    "# tx_hash=contract.functions.contributions().call()\n",
    "# tx_receipt = w3.eth.wait_for_transaction_receipt(tx_hash)\n",
    "# tx_receipt"
   ]
  },
  {
   "cell_type": "code",
   "execution_count": 10,
   "metadata": {},
   "outputs": [
    {
     "data": {
      "text/plain": [
       "AttributeDict({'address': '0xED2e531EC706b0E914daDB7CC99a5F5449493c00',\n",
       " 'blockHash': HexBytes('0x1ebdbf67064e341d8187754f64f90a7b3693d8279aa0f94a490ba9c278cb4d5b'),\n",
       " 'blockNumber': 9,\n",
       " 'data': HexBytes('0x000000000000000000000000c62460b42c3502bd7cbd98644abccb4e0f968e230000000000000000000000000000000000000000000000000de0b6b3a76400000000000000000000000000000000000000000000000000000000000065525539'),\n",
       " 'logIndex': 0,\n",
       " 'removed': False,\n",
       " 'topics': [HexBytes('0x0754663d79ddf47e96611d36d595a38ce0918960aa5965913d75c482d0477ed6')],\n",
       " 'transactionHash': HexBytes('0xb2a16c7856c0d2aad098019eb306bdfe4765728e21a9ce6062749ef1c06c3ccb'),\n",
       " 'transactionIndex': 0})"
      ]
     },
     "execution_count": 10,
     "metadata": {},
     "output_type": "execute_result"
    }
   ],
   "source": [
    "tx_receipt[\"logs\"][0]"
   ]
  },
  {
   "cell_type": "code",
   "execution_count": 11,
   "metadata": {},
   "outputs": [
    {
     "data": {
      "text/plain": [
       "'0xb2a16c7856c0d2aad098019eb306bdfe4765728e21a9ce6062749ef1c06c3ccb'"
      ]
     },
     "execution_count": 11,
     "metadata": {},
     "output_type": "execute_result"
    }
   ],
   "source": [
    "tx_receipt[\"logs\"][0][\"transactionHash\"].hex()"
   ]
  },
  {
   "cell_type": "code",
   "execution_count": 12,
   "metadata": {},
   "outputs": [
    {
     "data": {
      "text/plain": [
       "(AttributeDict({'args': AttributeDict({'contributor': '0xC62460B42C3502bd7CBd98644ABCcB4e0F968E23',\n",
       "   'amount': 1000000000000000000,\n",
       "   'timestamp': 1699894585}),\n",
       "  'event': 'RefundedContributor',\n",
       "  'logIndex': 0,\n",
       "  'transactionIndex': 0,\n",
       "  'transactionHash': HexBytes('0xb2a16c7856c0d2aad098019eb306bdfe4765728e21a9ce6062749ef1c06c3ccb'),\n",
       "  'address': '0xED2e531EC706b0E914daDB7CC99a5F5449493c00',\n",
       "  'blockHash': HexBytes('0x1ebdbf67064e341d8187754f64f90a7b3693d8279aa0f94a490ba9c278cb4d5b'),\n",
       "  'blockNumber': 9}),\n",
       " AttributeDict({'args': AttributeDict({'contributor': '0xdc33a23979C235Fbb028006ED11659fC98444262',\n",
       "   'amount': 1000000000000000000,\n",
       "   'timestamp': 1699894585}),\n",
       "  'event': 'RefundedContributor',\n",
       "  'logIndex': 1,\n",
       "  'transactionIndex': 0,\n",
       "  'transactionHash': HexBytes('0xb2a16c7856c0d2aad098019eb306bdfe4765728e21a9ce6062749ef1c06c3ccb'),\n",
       "  'address': '0xED2e531EC706b0E914daDB7CC99a5F5449493c00',\n",
       "  'blockHash': HexBytes('0x1ebdbf67064e341d8187754f64f90a7b3693d8279aa0f94a490ba9c278cb4d5b'),\n",
       "  'blockNumber': 9}))"
      ]
     },
     "execution_count": 12,
     "metadata": {},
     "output_type": "execute_result"
    }
   ],
   "source": [
    "contract.events.RefundedContributor().get_logs()"
   ]
  }
 ],
 "metadata": {
  "kernelspec": {
   "display_name": "myvenv",
   "language": "python",
   "name": "python3"
  },
  "language_info": {
   "codemirror_mode": {
    "name": "ipython",
    "version": 3
   },
   "file_extension": ".py",
   "mimetype": "text/x-python",
   "name": "python",
   "nbconvert_exporter": "python",
   "pygments_lexer": "ipython3",
   "version": "3.11.6"
  }
 },
 "nbformat": 4,
 "nbformat_minor": 2
}
